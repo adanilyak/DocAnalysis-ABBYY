{
 "cells": [
  {
   "cell_type": "code",
   "execution_count": 22,
   "metadata": {
    "collapsed": true
   },
   "outputs": [],
   "source": [
    "import xml.etree.ElementTree as et\n",
    "from pathlib import Path as pt\n",
    "from sklearn.ensemble import RandomForestClassifier, GradientBoostingClassifier\n",
    "from sklearn.svm import LinearSVC, SVC\n",
    "from sklearn.model_selection import cross_val_score, GridSearchCV\n",
    "from sklearn.preprocessing import normalize\n",
    "from sklearn.neighbors import KNeighborsClassifier\n",
    "import sys, os\n",
    "import numpy as np\n",
    "from statistics import mean"
   ]
  },
  {
   "cell_type": "code",
   "execution_count": 2,
   "metadata": {
    "collapsed": true
   },
   "outputs": [],
   "source": [
    "textXmlCollection = './textXml'\n",
    "nontextXmlCollection = './nontextXml'"
   ]
  },
  {
   "cell_type": "code",
   "execution_count": 3,
   "metadata": {
    "collapsed": true
   },
   "outputs": [],
   "source": [
    "def height(wf):\n",
    "    a = wf[0].attrib\n",
    "    return int(a['Bottom']) - int(a['Top'])\n",
    "\n",
    "def width(wf):\n",
    "    a = wf[0].attrib\n",
    "    return int(a['Right']) - int(a['Left'])\n",
    "\n",
    "def area(wf):\n",
    "    return height(wf) * width(wf)\n",
    "\n",
    "def bl(wf):\n",
    "    a = wf.attrib\n",
    "    return int(a['BlackCount'])\n",
    "\n",
    "def wtHl(wf):\n",
    "    a = wf.attrib\n",
    "    return int(a['WhiteHolesCount'])\n",
    "\n",
    "def horStr(wf):\n",
    "    a = wf.attrib\n",
    "    return int(a['HorzStrokesCount'])\n",
    "\n",
    "def vertStr(wf):\n",
    "    a = wf.attrib\n",
    "    return int(a['VertStrokesCount'])\n",
    "\n",
    "def maxHorStr(wf):\n",
    "    a = wf.attrib\n",
    "    return int(a['MaxHorzStrokeLength'])"
   ]
  },
  {
   "cell_type": "code",
   "execution_count": 4,
   "metadata": {
    "collapsed": true
   },
   "outputs": [],
   "source": [
    "def feature1(wf):\n",
    "    return (area(wf) - bl(wf)) / ((horStr(wf) + height(wf)) * height(wf))\n",
    "\n",
    "def feature2(wf):\n",
    "    return (horStr(wf) + vertStr(wf)) / max(width(wf), height(wf))\n",
    "\n",
    "def feature3(wf):\n",
    "    return bl(wf) / (horStr(wf) + vertStr(wf))\n",
    "\n",
    "def feature4(wf):\n",
    "    return bl(wf) / area(wf)\n",
    "\n",
    "def feature5(wf):\n",
    "    return wtHl(wf) / area(wf)\n",
    "\n",
    "def feature6(wf):\n",
    "    return horStr(wf) / area(wf)\n",
    "\n",
    "def feature7(wf):\n",
    "    return vertStr(wf) / area(wf)\n",
    "\n",
    "def feature8(wf):\n",
    "    return maxHorStr(wf) / width(wf)"
   ]
  },
  {
   "cell_type": "code",
   "execution_count": 5,
   "metadata": {
    "collapsed": false
   },
   "outputs": [],
   "source": [
    "def features(wf):\n",
    "    return [feature1(wf),\n",
    "            feature2(wf),\n",
    "            feature3(wf),\n",
    "            feature4(wf),\n",
    "            feature5(wf),\n",
    "            feature6(wf),\n",
    "            feature7(wf),\n",
    "            feature8(wf)]"
   ]
  },
  {
   "cell_type": "code",
   "execution_count": 6,
   "metadata": {
    "collapsed": false
   },
   "outputs": [],
   "source": [
    "def answersAndFeatures(xml, isText):\n",
    "    tree = et.parse(xml)\n",
    "    \n",
    "    x = []\n",
    "    y = []\n",
    "    for wf in tree.iter(\"WordFragment\"):\n",
    "        x.append(features(wf))\n",
    "        y.append(int(isText))\n",
    "        \n",
    "    return x, y"
   ]
  },
  {
   "cell_type": "code",
   "execution_count": 7,
   "metadata": {
    "collapsed": false
   },
   "outputs": [],
   "source": [
    "def answersAndFeaturesFromCollection(collection, isText):\n",
    "    X = []\n",
    "    Y = []\n",
    "    for xml in pt(collection).iterdir():\n",
    "        \n",
    "        if not str(xml).endswith('.xml'):\n",
    "            continue\n",
    "        \n",
    "        x, y = answersAndFeatures(xml, isText)\n",
    "        X += x\n",
    "        Y += y\n",
    "    \n",
    "    return X, Y"
   ]
  },
  {
   "cell_type": "code",
   "execution_count": 8,
   "metadata": {
    "collapsed": false
   },
   "outputs": [],
   "source": [
    "textX, textY = answersAndFeaturesFromCollection(textXmlCollection, True)\n",
    "nontextX, nontextY = answersAndFeaturesFromCollection(nontextXmlCollection, False)\n",
    "\n",
    "X = textX + nontextX\n",
    "Y = textY + nontextY"
   ]
  },
  {
   "cell_type": "code",
   "execution_count": 9,
   "metadata": {
    "collapsed": true
   },
   "outputs": [],
   "source": [
    "def cvs(model):\n",
    "    print(mean(cross_val_score(model, X, Y, cv=10, n_jobs=-1, scoring='accuracy')))"
   ]
  },
  {
   "cell_type": "code",
   "execution_count": 10,
   "metadata": {
    "collapsed": false
   },
   "outputs": [
    {
     "name": "stdout",
     "output_type": "stream",
     "text": [
      "0.879993194473\n"
     ]
    }
   ],
   "source": [
    "rf = RandomForestClassifier()\n",
    "cvs(rf)"
   ]
  },
  {
   "cell_type": "code",
   "execution_count": 23,
   "metadata": {
    "collapsed": false
   },
   "outputs": [
    {
     "name": "stdout",
     "output_type": "stream",
     "text": [
      "0.860857540886\n"
     ]
    }
   ],
   "source": [
    "gb = GradientBoostingClassifier()\n",
    "cvs(gb)"
   ]
  },
  {
   "cell_type": "code",
   "execution_count": 11,
   "metadata": {
    "collapsed": false
   },
   "outputs": [
    {
     "name": "stdout",
     "output_type": "stream",
     "text": [
      "0.795717600952\n"
     ]
    }
   ],
   "source": [
    "lsvc = LinearSVC()\n",
    "cvs(lsvc)"
   ]
  },
  {
   "cell_type": "code",
   "execution_count": 12,
   "metadata": {
    "collapsed": false
   },
   "outputs": [
    {
     "name": "stdout",
     "output_type": "stream",
     "text": [
      "0.848279010833\n"
     ]
    }
   ],
   "source": [
    "knc = KNeighborsClassifier()\n",
    "cvs(knc)"
   ]
  },
  {
   "cell_type": "code",
   "execution_count": 13,
   "metadata": {
    "collapsed": false
   },
   "outputs": [
    {
     "name": "stdout",
     "output_type": "stream",
     "text": [
      "0.844629437213\n"
     ]
    }
   ],
   "source": [
    "svc = SVC()\n",
    "cvs(svc)"
   ]
  },
  {
   "cell_type": "code",
   "execution_count": 26,
   "metadata": {
    "collapsed": true
   },
   "outputs": [],
   "source": [
    "def tuneRf():\n",
    "    r = np.random\n",
    "    paramGrid = [{'n_estimators': [15, 20, 25, 30, 35, 40, 45],\n",
    "                  'max_features': ['auto', 'sqrt', 'log2'],\n",
    "                  'criterion': ['gini', 'entropy'],\n",
    "                  'random_state': [None, 42, r]}]\n",
    "    \n",
    "    clf = GridSearchCV(RandomForestClassifier(n_jobs=-1), paramGrid, cv=10, scoring='accuracy')\n",
    "    clf.fit(X, Y)\n",
    "    print(clf.best_params_)\n",
    "    print(max(clf.cv_results_['mean_test_score']))"
   ]
  },
  {
   "cell_type": "code",
   "execution_count": 27,
   "metadata": {
    "collapsed": false
   },
   "outputs": [
    {
     "name": "stdout",
     "output_type": "stream",
     "text": [
      "{'criterion': 'gini', 'max_features': 'sqrt', 'n_estimators': 45, 'random_state': None}\n",
      "0.888209444535\n"
     ]
    }
   ],
   "source": [
    "tuneRf()"
   ]
  }
 ],
 "metadata": {
  "kernelspec": {
   "display_name": "Python 3",
   "language": "python",
   "name": "python3"
  },
  "language_info": {
   "codemirror_mode": {
    "name": "ipython",
    "version": 3
   },
   "file_extension": ".py",
   "mimetype": "text/x-python",
   "name": "python",
   "nbconvert_exporter": "python",
   "pygments_lexer": "ipython3",
   "version": "3.6.0"
  }
 },
 "nbformat": 4,
 "nbformat_minor": 2
}
